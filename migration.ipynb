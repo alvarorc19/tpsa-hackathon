{
 "cells": [
  {
   "cell_type": "markdown",
   "metadata": {},
   "source": [
    "This is to handle migration.\n",
    "\n",
    "First we can start to create an adjacency matrix"
   ]
  },
  {
   "cell_type": "code",
   "execution_count": 1,
   "metadata": {},
   "outputs": [],
   "source": [
    "import pandas as pd\n",
    "import numpy as np\n",
    "import matplotlib.pyplot as plt\n",
    "import geopandas as gpd\n",
    "import numpy.typing as npt\n",
    "from typing import *\n",
    "import matplotlib.pyplot as plt"
   ]
  },
  {
   "cell_type": "code",
   "execution_count": 3,
   "metadata": {},
   "outputs": [
    {
     "name": "stderr",
     "output_type": "stream",
     "text": [
      "C:\\Users\\Conor\\AppData\\Local\\Packages\\PythonSoftwareFoundation.Python.3.12_qbz5n2kfra8p0\\LocalCache\\local-packages\\Python312\\site-packages\\pyproj\\crs\\crs.py:141: FutureWarning: '+init=<authority>:<code>' syntax is deprecated. '<authority>:<code>' is the preferred initialization method. When making the change, be mindful of axis order changes: https://pyproj4.github.io/pyproj/stable/gotchas.html#axis-order-changes-in-proj-6\n",
      "  in_crs_string = _prepare_from_proj_string(in_crs_string)\n"
     ]
    },
    {
     "name": "stdout",
     "output_type": "stream",
     "text": [
      "<class 'geopandas.geodataframe.GeoDataFrame'>\n",
      "RangeIndex: 3409 entries, 0 to 3408\n",
      "Data columns (total 9 columns):\n",
      " #   Column           Non-Null Count  Dtype   \n",
      "---  ------           --------------  -----   \n",
      " 0   GUID_            3409 non-null   object  \n",
      " 1   2022_Population  3409 non-null   float64 \n",
      " 2   2016_Population  3409 non-null   int32   \n",
      " 3   2011_Population  3409 non-null   int32   \n",
      " 4   2006_Population  3371 non-null   float64 \n",
      " 5   2002_Population  3367 non-null   float64 \n",
      " 6   1996_Population  3364 non-null   float64 \n",
      " 7   geometry         3409 non-null   geometry\n",
      " 8   area_sq_km       3409 non-null   float64 \n",
      "dtypes: float64(5), geometry(1), int32(2), object(1)\n",
      "memory usage: 213.2+ KB\n"
     ]
    }
   ],
   "source": [
    "gdf = gpd.read_file(\"C:/Users/Conor/Desktop/tpsa_hackathon_CONOR/MAIN_FILE.geojson\")\n",
    "gdf = gdf.to_crs({'init': 'EPSG:29902'})\n",
    "gdf['area_sq_km'] = gdf['geometry'].area / 1_000_000\n",
    "gdf.info()"
   ]
  },
  {
   "cell_type": "markdown",
   "metadata": {},
   "source": [
    "The problem with adding neighbours is that it doesn't account for the fact that physical distance from one ED to another is not limited to the fact that two EDs are touching or not. Also, it doesn't account for the fact that EDs across the country can have a lot to do with each other (e.g. Galway and Dublin).\n",
    "\n",
    "We therefore want to be able to add neighbours that are not just immediately touhcing off of each other."
   ]
  },
  {
   "cell_type": "code",
   "execution_count": null,
   "metadata": {},
   "outputs": [],
   "source": [
    "# add NEIGHBORS column\n",
    "gdf[\"NEIGHBORS\"] = None  \n",
    "\n",
    "for index, electoral_div in gdf.iterrows():   \n",
    "\n",
    "    # get 'not disjoint' countries\n",
    "    neighbors = gdf[~gdf.geometry.disjoint(electoral_div.geometry)].index.tolist()\n",
    "\n",
    "    # remove own name of the country from the list\n",
    "    neighbors = [ ed for ed in neighbors if electoral_div.index.tolist() != ed ]\n",
    "\n",
    "    # add names of neighbors as NEIGHBORS value\n",
    "    gdf.at[index, \"NEIGHBORS\"] = neighbors"
   ]
  },
  {
   "cell_type": "code",
   "execution_count": null,
   "metadata": {},
   "outputs": [],
   "source": [
    "# Making the adjacency matrix \n",
    "\n",
    "# We define an adj matrix list to record the index of neighbors for each ED \n",
    "proto_adj_matrix: list = []  # We do this to get around the irregular dimensions of the object\n",
    "for index in range(len(gdf)): # Run through the EDs\n",
    "    proto_adj_matrix.append(gdf.iloc[index].NEIGHBORS) # Add the ED's neighbors into proto adj matrix\n",
    "\n",
    "# Define the Adj matrix as an n x n matrix of zeroes (where n = number of EDs)\n",
    "adj_matrix: npt.ArrayLike = np.zeros([len(gdf), len(gdf)])\n",
    "\n",
    "# Cycle through each ED and its respective list of neighbours\n",
    "# Since an adj matrix is symmetric - this can be improved but numpy is sufficiently fast that at this scale it doesn't matter\n",
    "for i, ed in enumerate(proto_adj_matrix):\n",
    "    for neighbor in ed:\n",
    "        if i != neighbor:\n",
    "            adj_matrix[i][neighbor] = 1 # Set the relevant positions to 1 to indicate adjacency\n",
    "        else:\n",
    "            adj_matrix[i][neighbor] = 0"
   ]
  },
  {
   "cell_type": "code",
   "execution_count": null,
   "metadata": {},
   "outputs": [],
   "source": [
    "# Making the degree matrix\n",
    "\n",
    "degree_matrix: npt.ArrayLike = np.diag([len(gdf.iloc[index].NEIGHBORS) for index, rows in gdf.iterrows()])"
   ]
  }
 ],
 "metadata": {
  "kernelspec": {
   "display_name": "Python 3",
   "language": "python",
   "name": "python3"
  },
  "language_info": {
   "codemirror_mode": {
    "name": "ipython",
    "version": 3
   },
   "file_extension": ".py",
   "mimetype": "text/x-python",
   "name": "python",
   "nbconvert_exporter": "python",
   "pygments_lexer": "ipython3",
   "version": "3.12.5"
  }
 },
 "nbformat": 4,
 "nbformat_minor": 2
}
