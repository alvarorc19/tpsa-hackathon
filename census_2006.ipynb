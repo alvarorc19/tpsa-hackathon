{
 "cells": [
  {
   "cell_type": "code",
   "execution_count": 6,
   "metadata": {},
   "outputs": [
    {
     "data": {
      "text/plain": [
       "'Census 2006 – Are as 58\\nTable 6 Population and area of each Province, County, City, urban area, rural area and Electoral\\nDivision, 2002 and 2006\\nDistrict2002 2006Change in population\\n2002-2006 Area *\\n(hectares)\\nPersons Persons Males Females Actual Percentage\\nLeinster 2,105,579 2,295,123 1,141,320 1,153,803 189,544 9.0 1,977,423\\nCarlow County 46,014 50,349 25,611 24,738 4,335 9.4 89,790\\nCarlow Town 13,218 13,623 6,773 6,850 405 3.1 662\\n001 Carlow Urban 4,963 4,605 2,296 2,309 -358 -7.2 156\\n002 Graigue Urban 1,702 1,524 793 731 -178 -10.5 52012 Ballinacarrig (part) –3123 –1\\n019 Carlow Rural (part) 6,553 7,491 3,683 3,808 938 14.3 453\\nBaltinglass No. 2 rural area 3,633 4,162 2,158 2,004 529 14.6 13,518\\n003 Clonmore 461 530 278 252 69 15.0 2,814004 Hacketstown 1,026 1,065 576 489 39 3.8 2,206005 Haroldstown 239 267 133 134 28 11.7 1,153006 Kineagh 287 309 155 154 22 7.7 1,803007 Rahill 393 585 302 283 192 48.9 1,642008 Rathvilly 700 802 394 408 102 14.6 1,272009 Tiknock 271 331 175 156 60 22.1 1,075010 Williamstown 256 273 145 128 17 6.6 1,553\\nCarlow  rural area 27,184 30,492 15,574 14,918 3,308 12.2 65,425\\n011 Agha 266 322 161 161 56 21.1 1,232012 Ballinacarrig (part) 847 934 494 440 87 10.3 1,613013 Ballintemple 423 480 246 234 57 13.5 2,834014 Ballon 466 646 331 315 180 38.6 980015 Ballyellin 352 375 196 179 23 6.5 1,579016 Ballymoon 258 260 128 132 2 0.8 1,410017 Borris 959 1,008 500 508 49 5.1 1,608018 Burton Hall 281 368 174 194 87 31.0 610019 Carlow Rural (part) 4,685 5,057 2,522 2,535 372 7.9 1,799020 Clogrenan 687 796 426 370 109 15.9 1,777021 Clonegall 808 905 437 468 97 12.0 2,336022 Corries 482 504 268 236 22 4.6 1,762023 Cranemore 724 893 468 425 169 23.3 3,655024 Fennagh 473 516 255 261 43 9.1 1,896025 Garryhill 594 578 295 283 -16 -2.7 2,385026 Grangeford 283 324 163 161 41 14.5 1,416027 Johnstown 499 532 258 274 33 6.6 1,559028 Kellistown 864 1,035 523 512 171 19.8 2,001029 Kilbride 354 385 200 185 31 8.8 1,467030 Killedmond 367 409 214 195 42 11.4 1,880031 Killerrig 263 336 165 171 73 27.8 1,112032 Leighlinbridge 1,316 1,497 774 723 181 13.8 2,488033 Muinebeag (Bagenalstown) Rural 649 659 341 318 10 1.5 1,484034 Muinebeag (Bagenalstown) Urban 2,540 2,532 1,315 1,217 -8 -0.3 310035 Myshall 394 465 236 229 71 18.0 1,728036 Nurney 818 866 463 403 48 5.9 2,397037 Oldleighlin 406 445 218 227 39 9.6 1,935038 Rathanna 111 126 73 53 15 13.5 2,340039 Rathornan 325 365 184 181 40 12.3 1,996040 Rathrush 606 983 517 466 377 62.2 2,344041 Ridge 186 227 119 108 41 22.0 1,724042 Shangarry 490 472 240 232 -18 -3.7 2,005043 Sliguff 468 495 256 239 27 5.8 1,506044 Tankardstown 368 434 239 195 66 17.9 1,684045 Templepeter 342 409 204 205 67 19.6 1,510046 Tullowbeg 411 473 242 231 62 15.1 1,332047 Tullow Rural 503 500 260 240 -3 -0.6 1,391048 Tullow Urban 2,316 2,881 1,469 1,412 565 24.4 340\\nIdrone rural area 1,979 2,072 1,106 966 93 4.7 10,185\\n049 Ballymurphy 222 249 134 115 27 12.2 1,802050 Coonogue 187 195 103 92 8 4.3 1,523051 Glynn 343 347 193 154 4 1.2 2,265052 Kyle 270 295 153 142 25 9.3 1,684053 Marley 289 309 164 145 20 6.9 1,536054 Tinnahinch 668 677 359 318 9 1.3 1,375\\n*Area details provided by Ordnance Survey.\\n                 '"
      ]
     },
     "execution_count": 6,
     "metadata": {},
     "output_type": "execute_result"
    }
   ],
   "source": [
    "from PyPDF2 import PdfReader\n",
    "import pandas as pd\n",
    "\n",
    "# Load the PDF\n",
    "pdf_path = \"data/census2006_Volume_1_-_Table_6.pdf\"\n",
    "pdf = PdfReader(pdf_path)\n",
    "\n",
    "# Get the number of pages\n",
    "number_of_pages = len(pdf.pages)\n",
    "\n",
    "# Extract text from each page\n",
    "text = \"\"\n",
    "for page in range(1):\n",
    "    text += pdf.pages[page].extract_text()\n",
    "\n",
    "# Let's inspect the beginning of the text\n",
    "text\n"
   ]
  },
  {
   "cell_type": "code",
   "execution_count": 9,
   "metadata": {},
   "outputs": [
    {
     "data": {
      "text/plain": [
       "'Census 2006 – Are as 58\\nTable 6 Population and area of each Province County City urban area rural area and Electoral\\nDivision 2002 and 2006\\nDistrict2002 2006Change in population\\n2002-2006 Area *\\n(hectares)\\nPersons Persons Males Females Actual Percentage\\nLeinster 2105579 2295123 1141320 1153803 189544 9.0 1977423\\nCarlow County 46014 50349 25611 24738 4335 9.4 89790\\nCarlow Town 13218 13623 6773 6850 405 3.1 662\\n001 Carlow Urban 4963 4605 2296 2309 -358 -7.2 156\\n002 Graigue Urban 1702 1524 793 731 -178 -10.5 52012 Ballinacarrig (part) –3123 –1\\n019 Carlow Rural (part) 6553 7491 3683 3808 938 14.3 453\\nBaltinglass No. 2 rural area 3633 4162 2158 2004 529 14.6 13518\\n003 Clonmore 461 530 278 252 69 15.0 2814004 Hacketstown 1026 1065 576 489 39 3.8 2206005 Haroldstown 239 267 133 134 28 11.7 1153006 Kineagh 287 309 155 154 22 7.7 1803007 Rahill 393 585 302 283 192 48.9 1642008 Rathvilly 700 802 394 408 102 14.6 1272009 Tiknock 271 331 175 156 60 22.1 1075010 Williamstown 256 273 145 128 17 6.6 1553\\nCarlow  rural area 27184 30492 15574 14918 3308 12.2 65425\\n011 Agha 266 322 161 161 56 21.1 1232012 Ballinacarrig (part) 847 934 494 440 87 10.3 1613013 Ballintemple 423 480 246 234 57 13.5 2834014 Ballon 466 646 331 315 180 38.6 980015 Ballyellin 352 375 196 179 23 6.5 1579016 Ballymoon 258 260 128 132 2 0.8 1410017 Borris 959 1008 500 508 49 5.1 1608018 Burton Hall 281 368 174 194 87 31.0 610019 Carlow Rural (part) 4685 5057 2522 2535 372 7.9 1799020 Clogrenan 687 796 426 370 109 15.9 1777021 Clonegall 808 905 437 468 97 12.0 2336022 Corries 482 504 268 236 22 4.6 1762023 Cranemore 724 893 468 425 169 23.3 3655024 Fennagh 473 516 255 261 43 9.1 1896025 Garryhill 594 578 295 283 -16 -2.7 2385026 Grangeford 283 324 163 161 41 14.5 1416027 Johnstown 499 532 258 274 33 6.6 1559028 Kellistown 864 1035 523 512 171 19.8 2001029 Kilbride 354 385 200 185 31 8.8 1467030 Killedmond 367 409 214 195 42 11.4 1880031 Killerrig 263 336 165 171 73 27.8 1112032 Leighlinbridge 1316 1497 774 723 181 13.8 2488033 Muinebeag (Bagenalstown) Rural 649 659 341 318 10 1.5 1484034 Muinebeag (Bagenalstown) Urban 2540 2532 1315 1217 -8 -0.3 310035 Myshall 394 465 236 229 71 18.0 1728036 Nurney 818 866 463 403 48 5.9 2397037 Oldleighlin 406 445 218 227 39 9.6 1935038 Rathanna 111 126 73 53 15 13.5 2340039 Rathornan 325 365 184 181 40 12.3 1996040 Rathrush 606 983 517 466 377 62.2 2344041 Ridge 186 227 119 108 41 22.0 1724042 Shangarry 490 472 240 232 -18 -3.7 2005043 Sliguff 468 495 256 239 27 5.8 1506044 Tankardstown 368 434 239 195 66 17.9 1684045 Templepeter 342 409 204 205 67 19.6 1510046 Tullowbeg 411 473 242 231 62 15.1 1332047 Tullow Rural 503 500 260 240 -3 -0.6 1391048 Tullow Urban 2316 2881 1469 1412 565 24.4 340\\nIdrone rural area 1979 2072 1106 966 93 4.7 10185\\n049 Ballymurphy 222 249 134 115 27 12.2 1802050 Coonogue 187 195 103 92 8 4.3 1523051 Glynn 343 347 193 154 4 1.2 2265052 Kyle 270 295 153 142 25 9.3 1684053 Marley 289 309 164 145 20 6.9 1536054 Tinnahinch 668 677 359 318 9 1.3 1375\\n*Area details provided by Ordnance Survey.\\n                 '"
      ]
     },
     "execution_count": 9,
     "metadata": {},
     "output_type": "execute_result"
    }
   ],
   "source": [
    "text = text.replace(\",\", \"\")\n",
    "text"
   ]
  },
  {
   "cell_type": "code",
   "execution_count": 31,
   "metadata": {},
   "outputs": [],
   "source": [
    "a ='''\n",
    "163,944\n",
    "6,049\n",
    "2,862\n",
    "2,399\n",
    "788\n",
    "18,288\n",
    "18,288\n",
    "16,307\n",
    "904\n",
    "222\n",
    "716\n",
    "475\n",
    "994\n",
    "188\n",
    "159\n",
    "296\n",
    "543\n",
    "1,123\n",
    "472\n",
    "468\n",
    "400\n",
    "544\n",
    "547\n",
    "343\n",
    "186\n",
    "157\n",
    "589\n",
    "370\n",
    "369\n",
    "425\n",
    "582\n",
    "3,152\n",
    "372\n",
    "481\n",
    "672\n",
    "115\n",
    "443\n",
    "51,622\n",
    "1,884\n",
    "14,333\n",
    "1,174\n",
    "573\n",
    "3,118\n",
    "3,243\n",
    "15,154\n",
    "10,837\n",
    "1,306\n",
    "9,038\n",
    "575\n",
    "763\n",
    "1,650\n",
    "212\n",
    "328\n",
    "197\n",
    "610\n",
    "406\n",
    "788\n",
    "501\n",
    "163\n",
    "1,533\n",
    "649\n",
    "663\n",
    "'''"
   ]
  },
  {
   "cell_type": "code",
   "execution_count": 37,
   "metadata": {},
   "outputs": [
    {
     "data": {
      "text/plain": [
       "[163944604928622399788182881828816307904222716475994188159296543112347246840054454734318615758937036942558231523724816721154435162218841433311745733118324315154108371306903857576316502123281976104067885011631533649663]"
      ]
     },
     "execution_count": 37,
     "metadata": {},
     "output_type": "execute_result"
    }
   ],
   "source": [
    "a = a.replace(\",\", \"\")\n",
    "a = a.replace(\"\\n\", \", \")\n",
    "array = [int(item) for item in a.split()]\n",
    "array"
   ]
  },
  {
   "cell_type": "code",
   "execution_count": 29,
   "metadata": {},
   "outputs": [
    {
     "name": "stdout",
     "output_type": "stream",
     "text": [
      "011 Agha 266 322 161 161 56 21.1 1232012 Ballinacarrig (part) 847 934 494 440 87 10.3 1613013 Ballintemple 423 480 246 234 57 13.5 2834014 Ballon 466 646 331 315 180 38.6 980015 Ballyellin 352 375 196 179 23 6.5 1579016 Ballymoon 258 260 128 132 2 0.8 1410017 Borris 959 1008 500 508 49 5.1 1608018 Burton Hall 281 368 174 194 87 31.0 610019 Carlow Rural (part) 4685 5057 2522 2535 372 7.9 1799020 Clogrenan 687 796 426 370 109 15.9 1777021 Clonegall 808 905 437 468 97 12.0 2336022 Corries 482 504 268 236 22 4.6 1762023 Cranemore 724 893 468 425 169 23.3 3655024 Fennagh 473 516 255 261 43 9.1 1896025 Garryhill 594 578 295 283 -16 -2.7 2385026 Grangeford 283 324 163 161 41 14.5 1416027 Johnstown 499 532 258 274 33 6.6 1559028 Kellistown 864 1035 523 512 171 19.8 2001029 Kilbride 354 385 200 185 31 8.8 1467030 Killedmond 367 409 214 195 42 11.4 1880031 Killerrig 263 336 165 171 73 27.8 1112032 Leighlinbridge 1316 1497 774 723 181 13.8 2488033 Muinebeag (Bagenalstown) Rural 649 659 341 318 10 1.5 1484034 Muinebeag (Bagenalstown) Urban 2540 2532 1315 1217 -8 -0.3 310035 Myshall 394 465 236 229 71 18.0 1728036 Nurney 818 866 463 403 48 5.9 2397037 Oldleighlin 406 445 218 227 39 9.6 1935038 Rathanna 111 126 73 53 15 13.5 2340039 Rathornan 325 365 184 181 40 12.3 1996040 Rathrush 606 983 517 466 377 62.2 2344041 Ridge 186 227 119 108 41 22.0 1724042 Shangarry 490 472 240 232 -18 -3.7 2005043 Sliguff 468 495 256 239 27 5.8 1506044 Tankardstown 368 434 239 195 66 17.9 1684045 Templepeter 342 409 204 205 67 19.6 1510046 Tullowbeg 411 473 242 231 62 15.1 1332047 Tullow Rural 503 500 260 240 -3 -0.6 1391048 Tullow Urban 2316 2881 1469 1412 565 24.4 340\n"
     ]
    }
   ],
   "source": [
    "import re\n",
    "\n",
    "blocks = re.split(r'\\n', text)\n",
    "\n",
    "blocks = [item.strip() for item in blocks]\n",
    "print(blocks[-5])"
   ]
  },
  {
   "cell_type": "code",
   "execution_count": null,
   "metadata": {},
   "outputs": [],
   "source": [
    "# Manually extract the first block of data for testing\n",
    "# Using regular expressions to identify the rows and columns\n",
    "\n",
    "def extract_table_blocks(text):\n",
    "    # Regex pattern to capture rows with spaces as column separators\n",
    "    pattern = re.compile(r\"(\\d{3}\\s+[A-Za-z]+\\s+[A-Za-z]+|\\d{3}\\s+[A-Za-z]+)\\s+(\\d{1,3},\\d{3})\\s+(\\d{1,3},\\d{3})\\s+(\\d{1,3},\\d{3})\\s+(\\d{1,3},\\d{3})\\s+(-?\\d{1,3},?\\d*)\\s+(-?\\d{1,3}\\.\\d)\\s+(\\d{1,3},?\\d*)\")\n",
    "\n",
    "    matches = pattern.findall(text)\n",
    "\n",
    "    # Creating a DataFrame from the extracted matches\n",
    "    columns = ['District_Code', 'District_Name', 'Pop_2002', 'Pop_2006', 'Males_2006', 'Females_2006', 'Change_Pop', 'Percent_Change', 'Area_ha']\n",
    "    df = pd.DataFrame(matches, columns=columns)\n",
    "    \n",
    "    return df\n",
    "\n",
    "# Testing the function with the first page of text\n",
    "df_test = extract_table_blocks(text[:2000])\n",
    "df_test.head()\n"
   ]
  },
  {
   "cell_type": "code",
   "execution_count": null,
   "metadata": {},
   "outputs": [],
   "source": [
    "# Adjusting the pattern to more flexibly capture rows, accounting for potential variations in column structure\n",
    "def extract_table_blocks_v2(text):\n",
    "    # Adjust the pattern to match the structure of the rows\n",
    "    pattern = re.compile(\n",
    "        r\"(\\d{3})\\s+([A-Za-z\\-'\\(\\)]+(?:\\s+[A-Za-z\\-'\\(\\)]+)*)\\s+(\\d{1,3},\\d{3})\\s+(\\d{1,3},\\d{3})\\s+(\\d{1,3},\\d{3})\\s+(\\d{1,3},\\d{3})\\s+(-?\\d{1,3},?\\d*)\\s+(-?\\d{1,3}\\.\\d)\\s+(\\d{1,3},?\\d*)\"\n",
    "    )\n",
    "\n",
    "    matches = pattern.findall(text)\n",
    "\n",
    "    # Creating a DataFrame from the extracted matches\n",
    "    columns = ['District_Code', 'District_Name', 'Pop_2002', 'Pop_2006', 'Males_2006', 'Females_2006', 'Change_Pop', 'Percent_Change', 'Area_ha']\n",
    "    df = pd.DataFrame(matches, columns=columns)\n",
    "    \n",
    "    return df\n",
    "\n",
    "# Testing the updated function with the first page of text\n",
    "df_test_v2 = extract_table_blocks_v2(text[:2000])\n",
    "df_test_v2.head()\n"
   ]
  }
 ],
 "metadata": {
  "kernelspec": {
   "display_name": "Python 3",
   "language": "python",
   "name": "python3"
  },
  "language_info": {
   "codemirror_mode": {
    "name": "ipython",
    "version": 3
   },
   "file_extension": ".py",
   "mimetype": "text/x-python",
   "name": "python",
   "nbconvert_exporter": "python",
   "pygments_lexer": "ipython3",
   "version": "3.12.5"
  }
 },
 "nbformat": 4,
 "nbformat_minor": 2
}
