{
 "cells": [
  {
   "cell_type": "code",
   "execution_count": 21,
   "metadata": {},
   "outputs": [],
   "source": [
    "import numpy as np\n",
    "from chart_studio import plotly"
   ]
  },
  {
   "cell_type": "code",
   "execution_count": 20,
   "metadata": {},
   "outputs": [
    {
     "name": "stdout",
     "output_type": "stream",
     "text": [
      "5000\n",
      "5082\n",
      "5000\n",
      "5164\n",
      "5000\n",
      "5082\n",
      "5000\n",
      "5246\n",
      "5000\n",
      "5082\n",
      "5000\n",
      "5164\n",
      "5000\n",
      "5082\n",
      "5000\n"
     ]
    },
    {
     "data": {
      "text/plain": [
       "5246"
      ]
     },
     "execution_count": 20,
     "metadata": {},
     "output_type": "execute_result"
    }
   ],
   "source": [
    "#CCMPP Model\n",
    "\n",
    "B = 100   #Births\n",
    "M = 2   #Net migration\n",
    "D = 20    #Deaths\n",
    "N_0 = 5000   #Initial population\n",
    "\n",
    "def N_general(t):\n",
    "    if t == 0:\n",
    "        print(N_0)\n",
    "        return N_0\n",
    "    else:\n",
    "        print(N_general(t-1) + B + M - D)\n",
    "        return N(t-1) + B + M - D\n",
    "    \n",
    "N_general(3)   #Need to fix the bug where all of the previous values get printed out\n"
   ]
  },
  {
   "cell_type": "code",
   "execution_count": 13,
   "metadata": {},
   "outputs": [],
   "source": [
    "#CCMPP Model with Ages\n",
    "\n",
    "#n is a parameter determining how much you are lumping data together (e.g. if n=2, you lump 0/1 year olds and 2/3 years olds together)\n",
    "#t is a variable that determines how many years after the initial year it is\n",
    "#x is a variable that determines which age category you are talking about - e.g. if x is 10, you are talking about people who turned 10 on their last birthday\n",
    "#if we differentiate by gender, 0 is taken to be male and 1 is taken to be female\n",
    "\n",
    "ages = np.arange(0,100)    #The different ages we will scan for (lumping 99+ into 99)\n",
    "\n",
    "def pop_int(age, n, gender):    #For getting inital populations of certain age ranges\n",
    "    n = 1            #Just going to deal with the age spacing (i.e. bin size) being 1 year\n",
    "    return N_0/(2*len(ages))    #Right now, I have it set so each age is distributed equally\n",
    "\n",
    "def survival(x,n, gender):   #Probability that a woman aged x on her last birthday will survive to age x+n (in this case, n=1)\n",
    "    n=1\n",
    "    return 0.9\n",
    "\n",
    "def births(age, n, gender):   #number of people born to people of ages [age, age+n] and of the female gender (gender = 1)\n",
    "    return 10*gender\n",
    "\n",
    "def deaths(age, n, gender):   #number of people to die of ages [age, age+n] and of gender = 0,1\n",
    "    return 2\n",
    "\n",
    "def migration(age, n, gender):   #net migration of people of ages [age, age+n] and of gender = 0,1\n",
    "    return 0\n",
    "\n",
    "def mortality_rate(x,n, gender):   #rate of people that will die between the ages of x and x+n in the next year\n",
    "    deaths_expected = deaths(x,n)\n",
    "    m = deaths_expected / pop(age, n)\n",
    "    return m\n",
    "\n",
    "def fertility_rate(x, n, gender):   #This is the expected number of births to a woman aged x on her last birthday, who survives to time t + 1\n",
    "    births_expected = birth(x, n, 0) + bi\n",
    "    return 2*gender\n",
    "\n",
    "def birth_zeroes(t, n, gender):   #This is to calculate the number of babies born each year - will return 0 for males\n",
    "    n = 1\n",
    "    gender = 1\n",
    "    total = 0\n",
    "    for x in ages:\n",
    "        total += fertility_rate(x) * N(x, t)\n",
    "\n",
    "def pop(age, n, gender):    #returns the amount of people in an area, with an age between x and x+n and of gender = gender\n",
    "    return pop_int + 1\n",
    "    \n"
   ]
  },
  {
   "cell_type": "markdown",
   "metadata": {},
   "source": [
    "The above code will apply to all of Ireland, using national birth, death and migration statistics. Ideally, we can apply this on a much more local level. However, the scale of Ireland compared to the scale of each ED is incomparable, and so the model will need to be altered depending on (a) the area of the ED, (b) the number of people in the ED, (c) any other statistics about the ED (e.g. if rural, is mortality rate of people aged 60 the same as an ED in Dublin?)"
   ]
  }
 ],
 "metadata": {
  "kernelspec": {
   "display_name": "Python 3",
   "language": "python",
   "name": "python3"
  },
  "language_info": {
   "codemirror_mode": {
    "name": "ipython",
    "version": 3
   },
   "file_extension": ".py",
   "mimetype": "text/x-python",
   "name": "python",
   "nbconvert_exporter": "python",
   "pygments_lexer": "ipython3",
   "version": "3.12.5"
  }
 },
 "nbformat": 4,
 "nbformat_minor": 2
}
