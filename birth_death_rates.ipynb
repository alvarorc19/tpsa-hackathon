{
 "cells": [
  {
   "cell_type": "code",
   "execution_count": 1,
   "metadata": {},
   "outputs": [],
   "source": [
    "import pandas as pd\n",
    "import numpy as np\n",
    "import matplotlib.pyplot as plt\n",
    "import geopandas as gpd\n",
    "import numpy.typing as npt\n",
    "from typing import *\n",
    "import matplotlib.pyplot as plt\n",
    "import seaborn as sns"
   ]
  },
  {
   "cell_type": "code",
   "execution_count": 2,
   "metadata": {},
   "outputs": [
    {
     "name": "stderr",
     "output_type": "stream",
     "text": [
      "/home/alvaro/.local/lib/python3.12/site-packages/pyproj/crs/crs.py:141: FutureWarning: '+init=<authority>:<code>' syntax is deprecated. '<authority>:<code>' is the preferred initialization method. When making the change, be mindful of axis order changes: https://pyproj4.github.io/pyproj/stable/gotchas.html#axis-order-changes-in-proj-6\n",
      "  in_crs_string = _prepare_from_proj_string(in_crs_string)\n"
     ]
    },
    {
     "name": "stdout",
     "output_type": "stream",
     "text": [
      "<class 'geopandas.geodataframe.GeoDataFrame'>\n",
      "RangeIndex: 3409 entries, 0 to 3408\n",
      "Data columns (total 9 columns):\n",
      " #   Column           Non-Null Count  Dtype   \n",
      "---  ------           --------------  -----   \n",
      " 0   GUID_            3409 non-null   object  \n",
      " 1   2022_Population  3409 non-null   float64 \n",
      " 2   2016_Population  3409 non-null   int32   \n",
      " 3   2011_Population  3409 non-null   int32   \n",
      " 4   2006_Population  3371 non-null   float64 \n",
      " 5   2002_Population  3367 non-null   float64 \n",
      " 6   1996_Population  3364 non-null   float64 \n",
      " 7   geometry         3409 non-null   geometry\n",
      " 8   area_sq_km       3409 non-null   float64 \n",
      "dtypes: float64(5), geometry(1), int32(2), object(1)\n",
      "memory usage: 213.2+ KB\n"
     ]
    }
   ],
   "source": [
    "gdf = gpd.read_file('data/MAIN_FILE.geojson')\n",
    "gdf = gdf.to_crs({'init': 'EPSG:29902'})\n",
    "gdf['area_sq_km'] = gdf['geometry'].area / 1_000_000\n",
    "gdf.info()"
   ]
  },
  {
   "cell_type": "code",
   "execution_count": 4,
   "metadata": {},
   "outputs": [],
   "source": [
    "gdf['2022_Density'] = gdf['2022_Population'] / gdf['area_sq_km']\n",
    "gdf[\"2016_Density\"] = gdf[\"2016_Population\"] / gdf[\"area_sq_km\"]\n",
    "gdf[\"2011_Density\"] = gdf[\"2011_Population\"] / gdf[\"area_sq_km\"]\n",
    "gdf[\"2006_Density\"] = gdf[\"2006_Population\"] / gdf[\"area_sq_km\"]\n",
    "gdf[\"2002_Density\"] = gdf[\"2002_Population\"] / gdf[\"area_sq_km\"]\n",
    "gdf[\"1996_Density\"] = gdf[\"1996_Population\"] / gdf[\"area_sq_km\"]"
   ]
  },
  {
   "cell_type": "code",
   "execution_count": 7,
   "metadata": {},
   "outputs": [
    {
     "data": {
      "text/html": [
       "<div>\n",
       "<style scoped>\n",
       "    .dataframe tbody tr th:only-of-type {\n",
       "        vertical-align: middle;\n",
       "    }\n",
       "\n",
       "    .dataframe tbody tr th {\n",
       "        vertical-align: top;\n",
       "    }\n",
       "\n",
       "    .dataframe thead th {\n",
       "        text-align: right;\n",
       "    }\n",
       "</style>\n",
       "<table border=\"1\" class=\"dataframe\">\n",
       "  <thead>\n",
       "    <tr style=\"text-align: right;\">\n",
       "      <th></th>\n",
       "      <th>GUID_</th>\n",
       "      <th>2022_Population</th>\n",
       "      <th>2016_Population</th>\n",
       "      <th>2011_Population</th>\n",
       "      <th>2006_Population</th>\n",
       "      <th>2002_Population</th>\n",
       "      <th>1996_Population</th>\n",
       "      <th>geometry</th>\n",
       "      <th>area_sq_km</th>\n",
       "      <th>2022_Density</th>\n",
       "      <th>2016_Density</th>\n",
       "      <th>2011_Density</th>\n",
       "      <th>2006_Density</th>\n",
       "      <th>2002_Density</th>\n",
       "      <th>1996_Density</th>\n",
       "    </tr>\n",
       "  </thead>\n",
       "  <tbody>\n",
       "    <tr>\n",
       "      <th>0</th>\n",
       "      <td>2AE196291F5013A3E055000000000001</td>\n",
       "      <td>4666.0</td>\n",
       "      <td>4489</td>\n",
       "      <td>4469</td>\n",
       "      <td>4250.0</td>\n",
       "      <td>3955.0</td>\n",
       "      <td>3468.0</td>\n",
       "      <td>POLYGON ((150710.077 55091.839, 150712.679 550...</td>\n",
       "      <td>28.393831</td>\n",
       "      <td>164.331471</td>\n",
       "      <td>158.097722</td>\n",
       "      <td>157.393344</td>\n",
       "      <td>149.680401</td>\n",
       "      <td>139.290820</td>\n",
       "      <td>122.139207</td>\n",
       "    </tr>\n",
       "    <tr>\n",
       "      <th>1</th>\n",
       "      <td>2AE19629240313A3E055000000000001</td>\n",
       "      <td>214.0</td>\n",
       "      <td>200</td>\n",
       "      <td>194</td>\n",
       "      <td>180.0</td>\n",
       "      <td>177.0</td>\n",
       "      <td>169.0</td>\n",
       "      <td>POLYGON ((255590.372 127597.171, 255593.669 12...</td>\n",
       "      <td>13.251078</td>\n",
       "      <td>16.149629</td>\n",
       "      <td>15.093111</td>\n",
       "      <td>14.640318</td>\n",
       "      <td>13.583800</td>\n",
       "      <td>13.357404</td>\n",
       "      <td>12.753679</td>\n",
       "    </tr>\n",
       "    <tr>\n",
       "      <th>2</th>\n",
       "      <td>2AE1962917E613A3E055000000000001</td>\n",
       "      <td>2915.0</td>\n",
       "      <td>2339</td>\n",
       "      <td>1799</td>\n",
       "      <td>2138.0</td>\n",
       "      <td>1879.0</td>\n",
       "      <td>667.0</td>\n",
       "      <td>POLYGON ((157382.587 156699.439, 157352.617 15...</td>\n",
       "      <td>0.180971</td>\n",
       "      <td>16107.590679</td>\n",
       "      <td>12924.752864</td>\n",
       "      <td>9940.842412</td>\n",
       "      <td>11814.075085</td>\n",
       "      <td>10382.903220</td>\n",
       "      <td>3685.681984</td>\n",
       "    </tr>\n",
       "    <tr>\n",
       "      <th>3</th>\n",
       "      <td>2AE1962921D313A3E055000000000001</td>\n",
       "      <td>202.0</td>\n",
       "      <td>217</td>\n",
       "      <td>205</td>\n",
       "      <td>202.0</td>\n",
       "      <td>211.0</td>\n",
       "      <td>175.0</td>\n",
       "      <td>POLYGON ((140697.774 46821.314, 140694.413 468...</td>\n",
       "      <td>11.741822</td>\n",
       "      <td>17.203463</td>\n",
       "      <td>18.480947</td>\n",
       "      <td>17.458960</td>\n",
       "      <td>17.203463</td>\n",
       "      <td>17.969953</td>\n",
       "      <td>14.903990</td>\n",
       "    </tr>\n",
       "    <tr>\n",
       "      <th>4</th>\n",
       "      <td>2AE196291C1F13A3E055000000000001</td>\n",
       "      <td>433.0</td>\n",
       "      <td>429</td>\n",
       "      <td>433</td>\n",
       "      <td>374.0</td>\n",
       "      <td>382.0</td>\n",
       "      <td>366.0</td>\n",
       "      <td>POLYGON ((236635.642 135029.179, 236632.747 13...</td>\n",
       "      <td>18.859730</td>\n",
       "      <td>22.958972</td>\n",
       "      <td>22.746879</td>\n",
       "      <td>22.958972</td>\n",
       "      <td>19.830613</td>\n",
       "      <td>20.254797</td>\n",
       "      <td>19.406429</td>\n",
       "    </tr>\n",
       "  </tbody>\n",
       "</table>\n",
       "</div>"
      ],
      "text/plain": [
       "                              GUID_  2022_Population  2016_Population  \\\n",
       "0  2AE196291F5013A3E055000000000001           4666.0             4489   \n",
       "1  2AE19629240313A3E055000000000001            214.0              200   \n",
       "2  2AE1962917E613A3E055000000000001           2915.0             2339   \n",
       "3  2AE1962921D313A3E055000000000001            202.0              217   \n",
       "4  2AE196291C1F13A3E055000000000001            433.0              429   \n",
       "\n",
       "   2011_Population  2006_Population  2002_Population  1996_Population  \\\n",
       "0             4469           4250.0           3955.0           3468.0   \n",
       "1              194            180.0            177.0            169.0   \n",
       "2             1799           2138.0           1879.0            667.0   \n",
       "3              205            202.0            211.0            175.0   \n",
       "4              433            374.0            382.0            366.0   \n",
       "\n",
       "                                            geometry  area_sq_km  \\\n",
       "0  POLYGON ((150710.077 55091.839, 150712.679 550...   28.393831   \n",
       "1  POLYGON ((255590.372 127597.171, 255593.669 12...   13.251078   \n",
       "2  POLYGON ((157382.587 156699.439, 157352.617 15...    0.180971   \n",
       "3  POLYGON ((140697.774 46821.314, 140694.413 468...   11.741822   \n",
       "4  POLYGON ((236635.642 135029.179, 236632.747 13...   18.859730   \n",
       "\n",
       "   2022_Density  2016_Density  2011_Density  2006_Density  2002_Density  \\\n",
       "0    164.331471    158.097722    157.393344    149.680401    139.290820   \n",
       "1     16.149629     15.093111     14.640318     13.583800     13.357404   \n",
       "2  16107.590679  12924.752864   9940.842412  11814.075085  10382.903220   \n",
       "3     17.203463     18.480947     17.458960     17.203463     17.969953   \n",
       "4     22.958972     22.746879     22.958972     19.830613     20.254797   \n",
       "\n",
       "   1996_Density  \n",
       "0    122.139207  \n",
       "1     12.753679  \n",
       "2   3685.681984  \n",
       "3     14.903990  \n",
       "4     19.406429  "
      ]
     },
     "execution_count": 7,
     "metadata": {},
     "output_type": "execute_result"
    }
   ],
   "source": [
    "gdf.head()"
   ]
  },
  {
   "cell_type": "code",
   "execution_count": 21,
   "metadata": {},
   "outputs": [],
   "source": [
    "df_2022= pd.read_csv('data/birth_rates/2022_population_pyramid.csv')\n",
    "df_2016 = pd.read_csv('data/birth_rates/2016_population_pyramid.csv')\n",
    "df_2011 = pd.read_csv('data/birth_rates/2011_population_pyramid.csv')\n",
    "\n",
    "df_2022 = df_2022.drop(columns = [\"Statistic Label\", \"Census Year\", \"UNIT\"])\n",
    "df_2016 = df_2016.drop(columns = [\"STATISTIC Label\", \"Census Year\", \"UNIT\"])\n",
    "df_2011 = df_2011.drop(columns = [\"Statistic Label\", \"Census Year\", \"UNIT\"])"
   ]
  },
  {
   "cell_type": "code",
   "execution_count": 22,
   "metadata": {},
   "outputs": [
    {
     "name": "stdout",
     "output_type": "stream",
     "text": [
      "<class 'pandas.core.frame.DataFrame'>\n",
      "RangeIndex: 194997 entries, 0 to 194996\n",
      "Data columns (total 4 columns):\n",
      " #   Column                        Non-Null Count   Dtype \n",
      "---  ------                        --------------   ----- \n",
      " 0   CSO Electoral Divisions 2022  194997 non-null  object\n",
      " 1   Age                           194997 non-null  object\n",
      " 2   Sex                           194997 non-null  object\n",
      " 3   VALUE                         194997 non-null  int64 \n",
      "dtypes: int64(1), object(3)\n",
      "memory usage: 6.0+ MB\n"
     ]
    }
   ],
   "source": [
    "df_2022.info()"
   ]
  },
  {
   "cell_type": "code",
   "execution_count": 44,
   "metadata": {},
   "outputs": [
    {
     "data": {
      "text/html": [
       "<div>\n",
       "<style scoped>\n",
       "    .dataframe tbody tr th:only-of-type {\n",
       "        vertical-align: middle;\n",
       "    }\n",
       "\n",
       "    .dataframe tbody tr th {\n",
       "        vertical-align: top;\n",
       "    }\n",
       "\n",
       "    .dataframe thead th {\n",
       "        text-align: right;\n",
       "    }\n",
       "</style>\n",
       "<table border=\"1\" class=\"dataframe\">\n",
       "  <thead>\n",
       "    <tr style=\"text-align: right;\">\n",
       "      <th></th>\n",
       "      <th>Exact age of person</th>\n",
       "      <th>Number of persons surviving</th>\n",
       "      <th>Number of deaths</th>\n",
       "      <th>Probability of surviving a year</th>\n",
       "      <th>Rate of mortality</th>\n",
       "      <th>Population expected</th>\n",
       "      <th>Expected number of person years lived</th>\n",
       "      <th>Life expectancy at age x</th>\n",
       "    </tr>\n",
       "  </thead>\n",
       "  <tbody>\n",
       "    <tr>\n",
       "      <th>0</th>\n",
       "      <td>0</td>\n",
       "      <td>100000.000000</td>\n",
       "      <td>332.355415</td>\n",
       "      <td>0.996676</td>\n",
       "      <td>0.003324</td>\n",
       "      <td>99833.822293</td>\n",
       "      <td>7.964620e+06</td>\n",
       "      <td>79.646204</td>\n",
       "    </tr>\n",
       "    <tr>\n",
       "      <th>1</th>\n",
       "      <td>1</td>\n",
       "      <td>99667.644585</td>\n",
       "      <td>18.188099</td>\n",
       "      <td>0.999818</td>\n",
       "      <td>0.000182</td>\n",
       "      <td>99658.550536</td>\n",
       "      <td>7.864787e+06</td>\n",
       "      <td>78.910128</td>\n",
       "    </tr>\n",
       "    <tr>\n",
       "      <th>2</th>\n",
       "      <td>2</td>\n",
       "      <td>99649.456486</td>\n",
       "      <td>15.759438</td>\n",
       "      <td>0.999842</td>\n",
       "      <td>0.000158</td>\n",
       "      <td>99641.576767</td>\n",
       "      <td>7.765128e+06</td>\n",
       "      <td>77.924440</td>\n",
       "    </tr>\n",
       "    <tr>\n",
       "      <th>3</th>\n",
       "      <td>3</td>\n",
       "      <td>99633.697048</td>\n",
       "      <td>10.472353</td>\n",
       "      <td>0.999895</td>\n",
       "      <td>0.000105</td>\n",
       "      <td>99628.460871</td>\n",
       "      <td>7.665486e+06</td>\n",
       "      <td>76.936686</td>\n",
       "    </tr>\n",
       "    <tr>\n",
       "      <th>4</th>\n",
       "      <td>4</td>\n",
       "      <td>99623.224695</td>\n",
       "      <td>8.843256</td>\n",
       "      <td>0.999911</td>\n",
       "      <td>0.000089</td>\n",
       "      <td>99618.803067</td>\n",
       "      <td>7.565858e+06</td>\n",
       "      <td>75.944721</td>\n",
       "    </tr>\n",
       "  </tbody>\n",
       "</table>\n",
       "</div>"
      ],
      "text/plain": [
       "   Exact age of person  Number of persons surviving  Number of deaths  \\\n",
       "0                    0                100000.000000        332.355415   \n",
       "1                    1                 99667.644585         18.188099   \n",
       "2                    2                 99649.456486         15.759438   \n",
       "3                    3                 99633.697048         10.472353   \n",
       "4                    4                 99623.224695          8.843256   \n",
       "\n",
       "   Probability of surviving a year  Rate of mortality  Population expected  \\\n",
       "0                         0.996676           0.003324         99833.822293   \n",
       "1                         0.999818           0.000182         99658.550536   \n",
       "2                         0.999842           0.000158         99641.576767   \n",
       "3                         0.999895           0.000105         99628.460871   \n",
       "4                         0.999911           0.000089         99618.803067   \n",
       "\n",
       "   Expected number of person years lived  Life expectancy at age x  \n",
       "0                           7.964620e+06                 79.646204  \n",
       "1                           7.864787e+06                 78.910128  \n",
       "2                           7.765128e+06                 77.924440  \n",
       "3                           7.665486e+06                 76.936686  \n",
       "4                           7.565858e+06                 75.944721  "
      ]
     },
     "execution_count": 44,
     "metadata": {},
     "output_type": "execute_result"
    }
   ],
   "source": [
    "deaths = pd.read_excel(\"data/death_rates/ILT2015-2017_TBL1.xlsx\")\n",
    "deaths.head()"
   ]
  },
  {
   "cell_type": "code",
   "execution_count": 63,
   "metadata": {},
   "outputs": [
    {
     "name": "stdout",
     "output_type": "stream",
     "text": [
      "<class 'pandas.core.frame.DataFrame'>\n",
      "RangeIndex: 106 entries, 0 to 105\n",
      "Data columns (total 8 columns):\n",
      " #   Column                                 Non-Null Count  Dtype  \n",
      "---  ------                                 --------------  -----  \n",
      " 0   Exact age of person                    106 non-null    int64  \n",
      " 1   Number of persons surviving            106 non-null    float64\n",
      " 2   Number of deaths                       106 non-null    float64\n",
      " 3   Probability of surviving a year        106 non-null    float64\n",
      " 4   Rate of mortality                      106 non-null    float64\n",
      " 5   Population expected                    106 non-null    float64\n",
      " 6   Expected number of person years lived  106 non-null    float64\n",
      " 7   Life expectancy at age x               106 non-null    float64\n",
      "dtypes: float64(7), int64(1)\n",
      "memory usage: 6.8 KB\n"
     ]
    }
   ],
   "source": [
    "deaths.info()"
   ]
  },
  {
   "cell_type": "code",
   "execution_count": 45,
   "metadata": {},
   "outputs": [],
   "source": [
    "df_2022[\"Age\"].value_counts()\n",
    "age_groups = [\"Age 0-4\", \"Age 5-9\", \"Age 10-14\", \"Age 15-19\", \"Age 20-24\", \"Age 25-29\", \"Age 30-34\", \"Age 35-39\", \"Age 40-44\", \"Age 45-49\", \"Age 50-54\", \"Age 55-59\", \"Age 60-64\", \"Age 65-69\", \"Age 70-74\", \"Age 75-79\", \"Age 80-84\", \"Age 85 and over\"]"
   ]
  },
  {
   "cell_type": "code",
   "execution_count": 72,
   "metadata": {},
   "outputs": [
    {
     "data": {
      "text/plain": [
       "([0.000943467936128843,\n",
       "  6.222481273666476e-05,\n",
       "  7.507715926136053e-05,\n",
       "  0.0002928140462640723,\n",
       "  0.0005183064284069917,\n",
       "  0.0005989201358649305,\n",
       "  0.0007342583447262534,\n",
       "  0.0009579439271057389,\n",
       "  0.0013231065496210673,\n",
       "  0.0019246659303150128,\n",
       "  0.0029332168619534593,\n",
       "  0.004658493256279822,\n",
       "  0.007667792643965242,\n",
       "  0.01300442844128999,\n",
       "  0.022579792037825924,\n",
       "  0.03983691362087797,\n",
       "  0.0707375922592169,\n",
       "  0.16313961004757227],\n",
       " ['Age 0-4',\n",
       "  'Age 5-9',\n",
       "  'Age 10-14',\n",
       "  'Age 15-19',\n",
       "  'Age 20-24',\n",
       "  'Age 25-29',\n",
       "  'Age 30-34',\n",
       "  'Age 35-39',\n",
       "  'Age 40-44',\n",
       "  'Age 45-49',\n",
       "  'Age 50-54',\n",
       "  'Age 55-59',\n",
       "  'Age 60-64',\n",
       "  'Age 65-69',\n",
       "  'Age 70-74',\n",
       "  'Age 75-79',\n",
       "  'Age 80-84',\n",
       "  'Age 85 and over'])"
      ]
     },
     "execution_count": 72,
     "metadata": {},
     "output_type": "execute_result"
    }
   ],
   "source": [
    "death_rates = []\n",
    "mortality_rates = deaths[\"Rate of mortality\"].values\n",
    "population_expected = deaths[\"Population expected\"].values\n",
    "weighted_rates = mortality_rates * population_expected\n",
    "\n",
    "for i in range(len(age_groups) - 1):\n",
    "    death_rates.append(weighted_rates[5 * i: 5 * i + 4].sum() / population_expected[5 * i: 5 * i + 4].sum())\n",
    "\n",
    "old_people = (weighted_rates[85:].sum() / population_expected[85:].sum())\n",
    "death_rates.append(old_people)\n",
    "\n",
    "len(death_rates), len(age_groups)\n",
    "death_rates, age_groups"
   ]
  },
  {
   "cell_type": "code",
   "execution_count": 65,
   "metadata": {},
   "outputs": [
    {
     "data": {
      "text/plain": [
       "[<matplotlib.lines.Line2D at 0x7fd84b77ddc0>]"
      ]
     },
     "execution_count": 65,
     "metadata": {},
     "output_type": "execute_result"
    },
    {
     "data": {
      "image/png": "[encoded data removed]",
      "text/plain": [
       "<Figure size 640x480 with 1 Axes>"
      ]
     },
     "metadata": {},
     "output_type": "display_data"
    }
   ],
   "source": [
    "import matplotlib.pyplot as plt\n",
    "plt.plot(deaths[\"Exact age of person\"][:-40], deaths[\"Rate of mortality\"][:-40])"
   ]
  }
 ],
 "metadata": {
  "kernelspec": {
   "display_name": "Python 3",
   "language": "python",
   "name": "python3"
  },
  "language_info": {
   "codemirror_mode": {
    "name": "ipython",
    "version": 3
   },
   "file_extension": ".py",
   "mimetype": "text/x-python",
   "name": "python",
   "nbconvert_exporter": "python",
   "pygments_lexer": "ipython3",
   "version": "3.12.5"
  }
 },
 "nbformat": 4,
 "nbformat_minor": 2
}
