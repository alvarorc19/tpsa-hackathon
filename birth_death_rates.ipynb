{
 "cells": [
  {
   "cell_type": "code",
   "execution_count": 1,
   "metadata": {},
   "outputs": [],
   "source": [
    "import pandas as pd\n",
    "import numpy as np\n",
    "import matplotlib.pyplot as plt\n",
    "import geopandas as gpd\n",
    "import numpy.typing as npt\n",
    "from typing import *\n",
    "import matplotlib.pyplot as plt\n",
    "import seaborn as sns"
   ]
  },
  {
   "cell_type": "code",
   "execution_count": 2,
   "metadata": {},
   "outputs": [
    {
     "name": "stderr",
     "output_type": "stream",
     "text": [
      "/home/alvaro/.local/lib/python3.12/site-packages/pyproj/crs/crs.py:141: FutureWarning: '+init=<authority>:<code>' syntax is deprecated. '<authority>:<code>' is the preferred initialization method. When making the change, be mindful of axis order changes: https://pyproj4.github.io/pyproj/stable/gotchas.html#axis-order-changes-in-proj-6\n",
      "  in_crs_string = _prepare_from_proj_string(in_crs_string)\n"
     ]
    },
    {
     "name": "stdout",
     "output_type": "stream",
     "text": [
      "<class 'geopandas.geodataframe.GeoDataFrame'>\n",
      "RangeIndex: 3409 entries, 0 to 3408\n",
      "Data columns (total 9 columns):\n",
      " #   Column           Non-Null Count  Dtype   \n",
      "---  ------           --------------  -----   \n",
      " 0   GUID_            3409 non-null   object  \n",
      " 1   2022_Population  3409 non-null   float64 \n",
      " 2   2016_Population  3409 non-null   int32   \n",
      " 3   2011_Population  3409 non-null   int32   \n",
      " 4   2006_Population  3371 non-null   float64 \n",
      " 5   2002_Population  3367 non-null   float64 \n",
      " 6   1996_Population  3364 non-null   float64 \n",
      " 7   geometry         3409 non-null   geometry\n",
      " 8   area_sq_km       3409 non-null   float64 \n",
      "dtypes: float64(5), geometry(1), int32(2), object(1)\n",
      "memory usage: 213.2+ KB\n"
     ]
    }
   ],
   "source": [
    "gdf = gpd.read_file('data/MAIN_FILE.geojson')\n",
    "gdf = gdf.to_crs({'init': 'EPSG:29902'})\n",
    "gdf['area_sq_km'] = gdf['geometry'].area / 1_000_000\n",
    "gdf.info()"
   ]
  },
  {
   "cell_type": "code",
   "execution_count": 3,
   "metadata": {},
   "outputs": [],
   "source": [
    "# add NEIGHBORS column\n",
    "gdf[\"NEIGHBORS\"] = None  \n",
    "\n",
    "for index, electoral_div in gdf.iterrows():   \n",
    "\n",
    "    # get 'not disjoint' countries\n",
    "    neighbors = gdf[~gdf.geometry.disjoint(electoral_div.geometry)].index.tolist()\n",
    "\n",
    "    # remove own name of the country from the list\n",
    "    neighbors = [ ed for ed in neighbors if electoral_div.index.tolist() != ed ]\n",
    "\n",
    "    # add names of neighbors as NEIGHBORS value\n",
    "    gdf.at[index, \"NEIGHBORS\"] = neighbors"
   ]
  },
  {
   "cell_type": "code",
   "execution_count": 7,
   "metadata": {},
   "outputs": [],
   "source": [
    "gdf['2022_Density'] = gdf['2022_Population'] / gdf['area_sq_km']\n",
    "gdf[\"2016_Density\"] = gdf[\"2016_Population\"] / gdf[\"area_sq_km\"]\n",
    "gdf[\"2011_Density\"] = gdf[\"2011_Population\"] / gdf[\"area_sq_km\"]\n",
    "gdf[\"2006_Density\"] = gdf[\"2006_Population\"] / gdf[\"area_sq_km\"]\n",
    "gdf[\"2002_Density\"] = gdf[\"2002_Population\"] / gdf[\"area_sq_km\"]\n",
    "gdf[\"1996_Density\"] = gdf[\"1996_Population\"] / gdf[\"area_sq_km\"]"
   ]
  },
  {
   "cell_type": "code",
   "execution_count": 8,
   "metadata": {},
   "outputs": [
    {
     "name": "stdout",
     "output_type": "stream",
     "text": [
      "<class 'geopandas.geodataframe.GeoDataFrame'>\n",
      "RangeIndex: 3409 entries, 0 to 3408\n",
      "Data columns (total 16 columns):\n",
      " #   Column           Non-Null Count  Dtype   \n",
      "---  ------           --------------  -----   \n",
      " 0   GUID_            3409 non-null   object  \n",
      " 1   2022_Population  3409 non-null   float64 \n",
      " 2   2016_Population  3409 non-null   int32   \n",
      " 3   2011_Population  3409 non-null   int32   \n",
      " 4   2006_Population  3371 non-null   float64 \n",
      " 5   2002_Population  3367 non-null   float64 \n",
      " 6   1996_Population  3364 non-null   float64 \n",
      " 7   geometry         3409 non-null   geometry\n",
      " 8   area_sq_km       3409 non-null   float64 \n",
      " 9   NEIGHBORS        3409 non-null   object  \n",
      " 10  2022_Density     3409 non-null   float64 \n",
      " 11  2016_Density     3409 non-null   float64 \n",
      " 12  2011_Density     3409 non-null   float64 \n",
      " 13  2006_Density     3371 non-null   float64 \n",
      " 14  2002_Density     3367 non-null   float64 \n",
      " 15  1996_Density     3364 non-null   float64 \n",
      "dtypes: float64(11), geometry(1), int32(2), object(2)\n",
      "memory usage: 399.6+ KB\n"
     ]
    }
   ],
   "source": [
    "gdf.info()"
   ]
  }
 ],
 "metadata": {
  "kernelspec": {
   "display_name": "Python 3",
   "language": "python",
   "name": "python3"
  },
  "language_info": {
   "codemirror_mode": {
    "name": "ipython",
    "version": 3
   },
   "file_extension": ".py",
   "mimetype": "text/x-python",
   "name": "python",
   "nbconvert_exporter": "python",
   "pygments_lexer": "ipython3",
   "version": "3.12.5"
  }
 },
 "nbformat": 4,
 "nbformat_minor": 2
}
